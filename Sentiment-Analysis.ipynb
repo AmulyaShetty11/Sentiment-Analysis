{
 "cells": [
  {
   "cell_type": "markdown",
   "id": "95a63337-dd65-4a38-bc1e-a025c9185017",
   "metadata": {},
   "source": [
    "# 1. Install and import dependencies"
   ]
  },
  {
   "cell_type": "code",
   "execution_count": null,
   "id": "8d6e2adc-abd6-4b77-babd-94257189743a",
   "metadata": {},
   "outputs": [],
   "source": [
    "!pip3 install torch torchvision torchaudio --index-url https://download.pytorch.org/whl/cu118"
   ]
  },
  {
   "cell_type": "code",
   "execution_count": null,
   "id": "8412a910-895d-489e-9441-34f9bdc3cc3b",
   "metadata": {},
   "outputs": [],
   "source": [
    "!pip install transformers requests beautifulsoup4"
   ]
  },
  {
   "cell_type": "code",
   "execution_count": 1,
   "id": "8d68084f-6778-4754-bd91-4c75eebf1231",
   "metadata": {},
   "outputs": [
    {
     "name": "stderr",
     "output_type": "stream",
     "text": [
      "C:\\Users\\amulya shetty\\AppData\\Local\\Programs\\Python\\Python312\\Lib\\site-packages\\tqdm\\auto.py:21: TqdmWarning: IProgress not found. Please update jupyter and ipywidgets. See https://ipywidgets.readthedocs.io/en/stable/user_install.html\n",
      "  from .autonotebook import tqdm as notebook_tqdm\n"
     ]
    }
   ],
   "source": [
    "from transformers import AutoTokenizer , AutoModelForSequenceClassification\n",
    "import torch \n",
    "import requests\n",
    "from bs4 import BeautifulSoup\n",
    "import re\n",
    "import numpy as np\n",
    "import pandas as pd"
   ]
  },
  {
   "cell_type": "markdown",
   "id": "ab25a2d8-1717-431a-b614-dc4b998f082b",
   "metadata": {},
   "source": [
    "# 2. Instantiate model"
   ]
  },
  {
   "cell_type": "code",
   "execution_count": 2,
   "id": "adf0b408-e558-43bb-83eb-0c74b441e6c7",
   "metadata": {},
   "outputs": [],
   "source": [
    "tokenizer = AutoTokenizer.from_pretrained('nlptown/bert-base-multilingual-uncased-sentiment')\n",
    "model = AutoModelForSequenceClassification.from_pretrained('nlptown/bert-base-multilingual-uncased-sentiment')"
   ]
  },
  {
   "cell_type": "markdown",
   "id": "e8fb8e6e-1908-4be0-a922-b928d35c1dcf",
   "metadata": {},
   "source": [
    "# 3. Encode and calculate sentiment"
   ]
  },
  {
   "cell_type": "code",
   "execution_count": 3,
   "id": "04044d4e-48fa-4cb0-ab6e-7e498503a3bd",
   "metadata": {},
   "outputs": [],
   "source": [
    "tokens = tokenizer.encode('I Loved the product, it is great', return_tensors='pt') #tokenise the reviews"
   ]
  },
  {
   "cell_type": "code",
   "execution_count": 4,
   "id": "0aae5bb5-ac2d-463e-991d-d89154916719",
   "metadata": {},
   "outputs": [],
   "source": [
    "result = model(tokens) #run the tokens (reviews) in the model"
   ]
  },
  {
   "cell_type": "code",
   "execution_count": 5,
   "id": "ab4cd693-70a8-4b35-8dc0-0399626fe827",
   "metadata": {},
   "outputs": [
    {
     "data": {
      "text/plain": [
       "tensor(4)"
      ]
     },
     "execution_count": 5,
     "metadata": {},
     "output_type": "execute_result"
    }
   ],
   "source": [
    "torch.argmax(result.logits) # choose maximum from the classification score prediction for each class"
   ]
  },
  {
   "cell_type": "code",
   "execution_count": 6,
   "id": "5436daeb-8e06-4512-89b7-14f891293bb6",
   "metadata": {},
   "outputs": [
    {
     "data": {
      "text/plain": [
       "5"
      ]
     },
     "execution_count": 6,
     "metadata": {},
     "output_type": "execute_result"
    }
   ],
   "source": [
    "int(torch.argmax(result.logits))+1 # +1 coz our ratings are from 1-5"
   ]
  },
  {
   "cell_type": "markdown",
   "id": "1b8a3c65-ec7d-4fe2-933e-4e09167ab87a",
   "metadata": {},
   "source": [
    "# 4. Collect Reviews"
   ]
  },
  {
   "cell_type": "code",
   "execution_count": 7,
   "id": "75d947db-831f-4031-846c-8752bc44a068",
   "metadata": {},
   "outputs": [],
   "source": [
    "r = requests.get('https://www.yelp.com/biz/fog-harbor-fish-house-san-francisco-2?osq=Restaurants')\n",
    "soup = BeautifulSoup(r.text, 'html.parser')  # Get the html for the page given \n",
    "regex = re.compile('.*comment.*') # comments are inside the comments class which is inside the p\n",
    "results = soup.find_all('p',{'class':regex}) # find all comments within p -> .comment \n",
    "reviews = [result.text for result in results] # render each results and convert to text"
   ]
  },
  {
   "cell_type": "markdown",
   "id": "6c218c0f-414d-4fde-850f-3c25dc52edb7",
   "metadata": {},
   "source": [
    "# 5. Load Reviews into dataframe and score"
   ]
  },
  {
   "cell_type": "code",
   "execution_count": 8,
   "id": "916ea765-ecfa-41b2-9e86-ca6a432bea63",
   "metadata": {},
   "outputs": [],
   "source": [
    "df = pd.DataFrame(np.array(reviews), columns = ['Review']) # creatin df of reviews "
   ]
  },
  {
   "cell_type": "code",
   "execution_count": 9,
   "id": "cdaabf04-512d-491b-8c6c-b64adca78b37",
   "metadata": {},
   "outputs": [
    {
     "data": {
      "text/plain": [
       "'Good view. Food is phenomenal. Scallops are the best. Our waiter Luis did a great job, too.'"
      ]
     },
     "execution_count": 9,
     "metadata": {},
     "output_type": "execute_result"
    }
   ],
   "source": [
    "df['Review'].iloc[0] #sample"
   ]
  },
  {
   "cell_type": "code",
   "execution_count": 10,
   "id": "191582b1-0a8d-411f-a115-71bdea016407",
   "metadata": {},
   "outputs": [],
   "source": [
    "def sentiment_score(review):\n",
    "    tokens = tokenizer.encode(review, return_tensors='pt') #tokenise the reviews\n",
    "    result = model(tokens) #run the tokens (reviews) in the model\n",
    "    return int(torch.argmax(result.logits))+1 # get the predicted ratings"
   ]
  },
  {
   "cell_type": "code",
   "execution_count": 11,
   "id": "1973764a-c407-4466-8912-2a067c025c6b",
   "metadata": {},
   "outputs": [
    {
     "data": {
      "text/plain": [
       "5"
      ]
     },
     "execution_count": 11,
     "metadata": {},
     "output_type": "execute_result"
    }
   ],
   "source": [
    "sentiment_score(df['Review'].iloc[0]) "
   ]
  },
  {
   "cell_type": "code",
   "execution_count": 12,
   "id": "f371cb6e-d890-4f06-aeb6-aec67f15dffb",
   "metadata": {},
   "outputs": [],
   "source": [
    "df['sentiment'] = df['Review'].apply(lambda x: sentiment_score(x[:512])) # our nlp model is limited to 512 tokens at a time hence [:512]"
   ]
  },
  {
   "cell_type": "code",
   "execution_count": 13,
   "id": "d78cd8f0-10ac-426c-aee5-f93f49bb8bb6",
   "metadata": {},
   "outputs": [
    {
     "data": {
      "text/html": [
       "<div>\n",
       "<style scoped>\n",
       "    .dataframe tbody tr th:only-of-type {\n",
       "        vertical-align: middle;\n",
       "    }\n",
       "\n",
       "    .dataframe tbody tr th {\n",
       "        vertical-align: top;\n",
       "    }\n",
       "\n",
       "    .dataframe thead th {\n",
       "        text-align: right;\n",
       "    }\n",
       "</style>\n",
       "<table border=\"1\" class=\"dataframe\">\n",
       "  <thead>\n",
       "    <tr style=\"text-align: right;\">\n",
       "      <th></th>\n",
       "      <th>Review</th>\n",
       "      <th>sentiment</th>\n",
       "    </tr>\n",
       "  </thead>\n",
       "  <tbody>\n",
       "    <tr>\n",
       "      <th>0</th>\n",
       "      <td>Good view. Food is phenomenal. Scallops are th...</td>\n",
       "      <td>5</td>\n",
       "    </tr>\n",
       "    <tr>\n",
       "      <th>1</th>\n",
       "      <td>RayThank you for the review and for dining wit...</td>\n",
       "      <td>5</td>\n",
       "    </tr>\n",
       "    <tr>\n",
       "      <th>2</th>\n",
       "      <td>From one coast to the other, by far the best f...</td>\n",
       "      <td>5</td>\n",
       "    </tr>\n",
       "    <tr>\n",
       "      <th>3</th>\n",
       "      <td>LeeThank you for the review and for dining wit...</td>\n",
       "      <td>5</td>\n",
       "    </tr>\n",
       "    <tr>\n",
       "      <th>4</th>\n",
       "      <td>The Sesame Ahi Tuna from the spring menu was A...</td>\n",
       "      <td>5</td>\n",
       "    </tr>\n",
       "    <tr>\n",
       "      <th>5</th>\n",
       "      <td>LaurenThank you for the review and for choosin...</td>\n",
       "      <td>5</td>\n",
       "    </tr>\n",
       "    <tr>\n",
       "      <th>6</th>\n",
       "      <td>I was taken here for dinner for my birthday an...</td>\n",
       "      <td>4</td>\n",
       "    </tr>\n",
       "    <tr>\n",
       "      <th>7</th>\n",
       "      <td>KimThank you for joining us on your birthday. ...</td>\n",
       "      <td>5</td>\n",
       "    </tr>\n",
       "    <tr>\n",
       "      <th>8</th>\n",
       "      <td>Our family stopped by for a light dinner here ...</td>\n",
       "      <td>5</td>\n",
       "    </tr>\n",
       "    <tr>\n",
       "      <th>9</th>\n",
       "      <td>Overpriced and overhyped - way better options ...</td>\n",
       "      <td>2</td>\n",
       "    </tr>\n",
       "    <tr>\n",
       "      <th>10</th>\n",
       "      <td>JeweliaWe appreciate the feedback.  I'm sorry ...</td>\n",
       "      <td>3</td>\n",
       "    </tr>\n",
       "    <tr>\n",
       "      <th>11</th>\n",
       "      <td>Made a reservation on Yelp a week in advance a...</td>\n",
       "      <td>4</td>\n",
       "    </tr>\n",
       "    <tr>\n",
       "      <th>12</th>\n",
       "      <td>ShereneWe love hearing from our guests.  Thank...</td>\n",
       "      <td>5</td>\n",
       "    </tr>\n",
       "    <tr>\n",
       "      <th>13</th>\n",
       "      <td>We had dinner here on a busy weekday evening w...</td>\n",
       "      <td>4</td>\n",
       "    </tr>\n",
       "    <tr>\n",
       "      <th>14</th>\n",
       "      <td>DarrelThank you for the review and for dining ...</td>\n",
       "      <td>5</td>\n",
       "    </tr>\n",
       "    <tr>\n",
       "      <th>15</th>\n",
       "      <td>Dang! Fog Harbor has a whopping 10,000+ review...</td>\n",
       "      <td>2</td>\n",
       "    </tr>\n",
       "    <tr>\n",
       "      <th>16</th>\n",
       "      <td>RamonaThank you so much for your amazing revie...</td>\n",
       "      <td>5</td>\n",
       "    </tr>\n",
       "    <tr>\n",
       "      <th>17</th>\n",
       "      <td>It happens occasionally when I get excited ove...</td>\n",
       "      <td>3</td>\n",
       "    </tr>\n",
       "    <tr>\n",
       "      <th>18</th>\n",
       "      <td>RachelWe appreciate the feedback.  I'm sorry t...</td>\n",
       "      <td>2</td>\n",
       "    </tr>\n",
       "  </tbody>\n",
       "</table>\n",
       "</div>"
      ],
      "text/plain": [
       "                                               Review  sentiment\n",
       "0   Good view. Food is phenomenal. Scallops are th...          5\n",
       "1   RayThank you for the review and for dining wit...          5\n",
       "2   From one coast to the other, by far the best f...          5\n",
       "3   LeeThank you for the review and for dining wit...          5\n",
       "4   The Sesame Ahi Tuna from the spring menu was A...          5\n",
       "5   LaurenThank you for the review and for choosin...          5\n",
       "6   I was taken here for dinner for my birthday an...          4\n",
       "7   KimThank you for joining us on your birthday. ...          5\n",
       "8   Our family stopped by for a light dinner here ...          5\n",
       "9   Overpriced and overhyped - way better options ...          2\n",
       "10  JeweliaWe appreciate the feedback.  I'm sorry ...          3\n",
       "11  Made a reservation on Yelp a week in advance a...          4\n",
       "12  ShereneWe love hearing from our guests.  Thank...          5\n",
       "13  We had dinner here on a busy weekday evening w...          4\n",
       "14  DarrelThank you for the review and for dining ...          5\n",
       "15  Dang! Fog Harbor has a whopping 10,000+ review...          2\n",
       "16  RamonaThank you so much for your amazing revie...          5\n",
       "17  It happens occasionally when I get excited ove...          3\n",
       "18  RachelWe appreciate the feedback.  I'm sorry t...          2"
      ]
     },
     "execution_count": 13,
     "metadata": {},
     "output_type": "execute_result"
    }
   ],
   "source": [
    "# final result\n",
    "df"
   ]
  }
 ],
 "metadata": {
  "kernelspec": {
   "display_name": "Python 3 (ipykernel)",
   "language": "python",
   "name": "python3"
  },
  "language_info": {
   "codemirror_mode": {
    "name": "ipython",
    "version": 3
   },
   "file_extension": ".py",
   "mimetype": "text/x-python",
   "name": "python",
   "nbconvert_exporter": "python",
   "pygments_lexer": "ipython3",
   "version": "3.12.0"
  }
 },
 "nbformat": 4,
 "nbformat_minor": 5
}
